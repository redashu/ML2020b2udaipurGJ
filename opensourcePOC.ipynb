{
  "nbformat": 4,
  "nbformat_minor": 0,
  "metadata": {
    "colab": {
      "name": "opensourcePOC.ipynb",
      "provenance": [],
      "authorship_tag": "ABX9TyNWIfQQPBivK9+DDbGhG+MB",
      "include_colab_link": true
    },
    "kernelspec": {
      "name": "python3",
      "display_name": "Python 3"
    }
  },
  "cells": [
    {
      "cell_type": "markdown",
      "metadata": {
        "id": "view-in-github",
        "colab_type": "text"
      },
      "source": [
        "<a href=\"https://colab.research.google.com/github/redashu/ML2020b2udaipurGJ/blob/master/opensourcePOC.ipynb\" target=\"_parent\"><img src=\"https://colab.research.google.com/assets/colab-badge.svg\" alt=\"Open In Colab\"/></a>"
      ]
    },
    {
      "cell_type": "code",
      "metadata": {
        "id": "G-z2KMcdXcZJ",
        "colab_type": "code",
        "colab": {}
      },
      "source": [
        "import  pandas  as  pd\n",
        "import  time\n",
        "from  sklearn.preprocessing  import  StandardScaler\n",
        "from   sklearn.tree  import  DecisionTreeClassifier\n",
        "from  sklearn.neighbors  import  KNeighborsClassifier\n",
        "from  sklearn.ensemble  import  RandomForestClassifier\n",
        "from  sklearn.metrics  import  accuracy_score\n",
        "from  sklearn.preprocessing  import  LabelEncoder\n",
        "import  matplotlib.pyplot  as  plt\n",
        "from  sklearn.model_selection  import  train_test_split"
      ],
      "execution_count": 0,
      "outputs": []
    },
    {
      "cell_type": "code",
      "metadata": {
        "id": "nnyjPFpqYzGn",
        "colab_type": "code",
        "colab": {
          "base_uri": "https://localhost:8080/",
          "height": 35
        },
        "outputId": "6b6905b7-661a-4548-bfda-aec673029824"
      },
      "source": [
        "#  takding sample data from Aws URL and that is by UCI \n",
        "df=pd.read_csv('http://3.92.235.245/datasets/Social_Network_Ads.csv')\n",
        "#  converting  CSV  into  dataframe \n",
        "type(df)\n"
      ],
      "execution_count": 21,
      "outputs": [
        {
          "output_type": "execute_result",
          "data": {
            "text/plain": [
              "pandas.core.frame.DataFrame"
            ]
          },
          "metadata": {
            "tags": []
          },
          "execution_count": 21
        }
      ]
    },
    {
      "cell_type": "code",
      "metadata": {
        "id": "3Z2wZdGEa9K5",
        "colab_type": "code",
        "colab": {}
      },
      "source": [
        "#  taking  features only by  converting  dataframe into numpy \n",
        "features=df.iloc[:,[1,2,3]].values\n",
        "label=df.iloc[:,-1].values\n",
        "#type(features)"
      ],
      "execution_count": 0,
      "outputs": []
    },
    {
      "cell_type": "code",
      "metadata": {
        "id": "ZvtTL8dEbMU-",
        "colab_type": "code",
        "colab": {}
      },
      "source": [
        "#  Here we are converting  str to numbers\n",
        "# calling  labelEncoder\n",
        "enc=LabelEncoder()"
      ],
      "execution_count": 0,
      "outputs": []
    },
    {
      "cell_type": "code",
      "metadata": {
        "id": "CRMkt54NcTTy",
        "colab_type": "code",
        "colab": {}
      },
      "source": [
        "# now  transforming \n",
        "features[:,0]=enc.fit_transform(features[:,0])"
      ],
      "execution_count": 0,
      "outputs": []
    },
    {
      "cell_type": "code",
      "metadata": {
        "id": "l7h8s42Pc3BT",
        "colab_type": "code",
        "colab": {}
      },
      "source": [
        "#  spliting  data into training and testing\n",
        "tr_data,ts_data,tr_label,ts_label=train_test_split(features,label,test_size=0.1)\n"
      ],
      "execution_count": 0,
      "outputs": []
    },
    {
      "cell_type": "code",
      "metadata": {
        "id": "LTBYK4dvdScK",
        "colab_type": "code",
        "colab": {}
      },
      "source": [
        "#  feature  scalling method call  \n",
        "sc=StandardScaler()"
      ],
      "execution_count": 0,
      "outputs": []
    },
    {
      "cell_type": "code",
      "metadata": {
        "id": "HXxcAC4mgebZ",
        "colab_type": "code",
        "colab": {}
      },
      "source": [
        "#  transforming  featuresn for training  data\n",
        "tr_data_trns=sc.fit_transform(tr_data)"
      ],
      "execution_count": 0,
      "outputs": []
    },
    {
      "cell_type": "code",
      "metadata": {
        "id": "GHNu4i2Hg2RO",
        "colab_type": "code",
        "colab": {}
      },
      "source": [
        "#  transforming  features for testing  data\n",
        "ts_data_trns=sc.transform(ts_data)"
      ],
      "execution_count": 0,
      "outputs": []
    },
    {
      "cell_type": "code",
      "metadata": {
        "id": "XR8R485RhZCX",
        "colab_type": "code",
        "colab": {}
      },
      "source": [
        "#  lets call all classifier\n",
        "des_clf=DecisionTreeClassifier()  #  default is CART with GINI\n",
        "knn_clf=KNeighborsClassifier()   #  value of  K is  5 \n",
        "random_clf=RandomForestClassifier()  #  no of  Trees are  10 "
      ],
      "execution_count": 0,
      "outputs": []
    },
    {
      "cell_type": "code",
      "metadata": {
        "id": "G3qbhS8Filgw",
        "colab_type": "code",
        "colab": {}
      },
      "source": [
        "# now training  all Classifiers\n",
        "trained_des=des_clf.fit(tr_data_trns,tr_label)\n",
        "trained_knn=knn_clf.fit(tr_data_trns,tr_label)\n",
        "trained_random=random_clf.fit(tr_data_trns,tr_label)\n"
      ],
      "execution_count": 0,
      "outputs": []
    },
    {
      "cell_type": "code",
      "metadata": {
        "id": "dJ4bgV8PjAqU",
        "colab_type": "code",
        "colab": {}
      },
      "source": [
        "#  now time for Predicting output \n",
        "des_predict=trained_des.predict(ts_data_trns)\n",
        "knn_predict=trained_knn.predict(ts_data_trns)\n",
        "random_predict=trained_random.predict(ts_data_trns)"
      ],
      "execution_count": 0,
      "outputs": []
    },
    {
      "cell_type": "code",
      "metadata": {
        "id": "Pz0-q25ZjrEm",
        "colab_type": "code",
        "colab": {}
      },
      "source": [
        "#  check accuracy for all 3 algos\n",
        "acc_des=accuracy_score(ts_label,des_predict)\n",
        "acc_knn=accuracy_score(ts_label,knn_predict)\n",
        "acc_random=accuracy_score(ts_label,random_predict)"
      ],
      "execution_count": 0,
      "outputs": []
    },
    {
      "cell_type": "code",
      "metadata": {
        "id": "IXKkrq8xkI33",
        "colab_type": "code",
        "colab": {
          "base_uri": "https://localhost:8080/",
          "height": 248
        },
        "outputId": "48a250fc-b671-4f2a-daed-43dba7628b66"
      },
      "source": [
        "#  now finally have a visual look\n",
        "algo=['DecisionTree','KNN','RandomForest']\n",
        "score=[acc_des,acc_knn,acc_random]\n",
        "plt.pie(score,labels=algo,autopct='%1.1f%%',shadow=True)\n",
        "plt.show()"
      ],
      "execution_count": 34,
      "outputs": [
        {
          "output_type": "display_data",
          "data": {
            "image/png": "[encoded data removed]",
            "text/plain": [
              "<Figure size 432x288 with 1 Axes>"
            ]
          },
          "metadata": {
            "tags": []
          }
        }
      ]
    },
    {
      "cell_type": "code",
      "metadata": {
        "id": "pslsl0eVkoky",
        "colab_type": "code",
        "colab": {}
      },
      "source": [
        ""
      ],
      "execution_count": 0,
      "outputs": []
    }
  ]
}